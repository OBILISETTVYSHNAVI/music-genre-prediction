{
  "cells": [
    {
      "cell_type": "markdown",
      "metadata": {
        "id": "view-in-github",
        "colab_type": "text"
      },
      "source": [
        "<a href=\"https://colab.research.google.com/github/OBILISETTVYSHNAVI/music-genre-prediction/blob/main/music_genre_classification_colab.ipynb\" target=\"_parent\"><img src=\"https://colab.research.google.com/assets/colab-badge.svg\" alt=\"Open In Colab\"/></a>"
      ]
    },
    {
      "cell_type": "code",
      "source": [
        "!pip install -q librosa tensorflow scikit-learn matplotlib pydub streamlit pyngrok soundfile\n",
        "\n",
        "# 🔑 Upload your Kaggle API key\n",
        "from google.colab import files\n",
        "files.upload()  # Upload kaggle.json here\n",
        "\n",
        "# Setup Kaggle\n",
        "!mkdir -p ~/.kaggle\n",
        "!cp kaggle.json ~/.kaggle/\n",
        "!chmod 600 ~/.kaggle/kaggle.json\n",
        "\n",
        "# ✅ Download GTZAN dataset from working source\n",
        "!kaggle datasets download -d andradaolteanu/gtzan-dataset-music-genre-classification\n",
        "!unzip -q gtzan-dataset-music-genre-classification.zip\n",
        "\n",
        "import os\n",
        "DATA_DIR = \"/content/Data/genres_original\"\n",
        "genres = sorted(os.listdir(DATA_DIR))\n",
        "print(genres)\n"
      ],
      "metadata": {
        "colab": {
          "base_uri": "https://localhost:8080/",
          "height": 246
        },
        "id": "gRwrsDY8wiTu",
        "outputId": "e3c2d8b9-5341-4ca5-bc5e-59ae371b4ed8"
      },
      "id": "gRwrsDY8wiTu",
      "execution_count": null,
      "outputs": [
        {
          "output_type": "stream",
          "name": "stdout",
          "text": [
            "\u001b[2K     \u001b[90m━━━━━━━━━━━━━━━━━━━━━━━━━━━━━━━━━━━━━━━━\u001b[0m \u001b[32m44.3/44.3 kB\u001b[0m \u001b[31m2.8 MB/s\u001b[0m eta \u001b[36m0:00:00\u001b[0m\n",
            "\u001b[2K   \u001b[90m━━━━━━━━━━━━━━━━━━━━━━━━━━━━━━━━━━━━━━━━\u001b[0m \u001b[32m10.1/10.1 MB\u001b[0m \u001b[31m86.6 MB/s\u001b[0m eta \u001b[36m0:00:00\u001b[0m\n",
            "\u001b[2K   \u001b[90m━━━━━━━━━━━━━━━━━━━━━━━━━━━━━━━━━━━━━━━━\u001b[0m \u001b[32m6.9/6.9 MB\u001b[0m \u001b[31m98.8 MB/s\u001b[0m eta \u001b[36m0:00:00\u001b[0m\n",
            "\u001b[2K   \u001b[90m━━━━━━━━━━━━━━━━━━━━━━━━━━━━━━━━━━━━━━━━\u001b[0m \u001b[32m79.1/79.1 kB\u001b[0m \u001b[31m6.7 MB/s\u001b[0m eta \u001b[36m0:00:00\u001b[0m\n",
            "\u001b[?25h"
          ]
        },
        {
          "output_type": "display_data",
          "data": {
            "text/plain": [
              "<IPython.core.display.HTML object>"
            ],
            "text/html": [
              "\n",
              "     <input type=\"file\" id=\"files-76f36b7c-af66-45db-9e51-84b84a82eb26\" name=\"files[]\" multiple disabled\n",
              "        style=\"border:none\" />\n",
              "     <output id=\"result-76f36b7c-af66-45db-9e51-84b84a82eb26\">\n",
              "      Upload widget is only available when the cell has been executed in the\n",
              "      current browser session. Please rerun this cell to enable.\n",
              "      </output>\n",
              "      <script>// Copyright 2017 Google LLC\n",
              "//\n",
              "// Licensed under the Apache License, Version 2.0 (the \"License\");\n",
              "// you may not use this file except in compliance with the License.\n",
              "// You may obtain a copy of the License at\n",
              "//\n",
              "//      http://www.apache.org/licenses/LICENSE-2.0\n",
              "//\n",
              "// Unless required by applicable law or agreed to in writing, software\n",
              "// distributed under the License is distributed on an \"AS IS\" BASIS,\n",
              "// WITHOUT WARRANTIES OR CONDITIONS OF ANY KIND, either express or implied.\n",
              "// See the License for the specific language governing permissions and\n",
              "// limitations under the License.\n",
              "\n",
              "/**\n",
              " * @fileoverview Helpers for google.colab Python module.\n",
              " */\n",
              "(function(scope) {\n",
              "function span(text, styleAttributes = {}) {\n",
              "  const element = document.createElement('span');\n",
              "  element.textContent = text;\n",
              "  for (const key of Object.keys(styleAttributes)) {\n",
              "    element.style[key] = styleAttributes[key];\n",
              "  }\n",
              "  return element;\n",
              "}\n",
              "\n",
              "// Max number of bytes which will be uploaded at a time.\n",
              "const MAX_PAYLOAD_SIZE = 100 * 1024;\n",
              "\n",
              "function _uploadFiles(inputId, outputId) {\n",
              "  const steps = uploadFilesStep(inputId, outputId);\n",
              "  const outputElement = document.getElementById(outputId);\n",
              "  // Cache steps on the outputElement to make it available for the next call\n",
              "  // to uploadFilesContinue from Python.\n",
              "  outputElement.steps = steps;\n",
              "\n",
              "  return _uploadFilesContinue(outputId);\n",
              "}\n",
              "\n",
              "// This is roughly an async generator (not supported in the browser yet),\n",
              "// where there are multiple asynchronous steps and the Python side is going\n",
              "// to poll for completion of each step.\n",
              "// This uses a Promise to block the python side on completion of each step,\n",
              "// then passes the result of the previous step as the input to the next step.\n",
              "function _uploadFilesContinue(outputId) {\n",
              "  const outputElement = document.getElementById(outputId);\n",
              "  const steps = outputElement.steps;\n",
              "\n",
              "  const next = steps.next(outputElement.lastPromiseValue);\n",
              "  return Promise.resolve(next.value.promise).then((value) => {\n",
              "    // Cache the last promise value to make it available to the next\n",
              "    // step of the generator.\n",
              "    outputElement.lastPromiseValue = value;\n",
              "    return next.value.response;\n",
              "  });\n",
              "}\n",
              "\n",
              "/**\n",
              " * Generator function which is called between each async step of the upload\n",
              " * process.\n",
              " * @param {string} inputId Element ID of the input file picker element.\n",
              " * @param {string} outputId Element ID of the output display.\n",
              " * @return {!Iterable<!Object>} Iterable of next steps.\n",
              " */\n",
              "function* uploadFilesStep(inputId, outputId) {\n",
              "  const inputElement = document.getElementById(inputId);\n",
              "  inputElement.disabled = false;\n",
              "\n",
              "  const outputElement = document.getElementById(outputId);\n",
              "  outputElement.innerHTML = '';\n",
              "\n",
              "  const pickedPromise = new Promise((resolve) => {\n",
              "    inputElement.addEventListener('change', (e) => {\n",
              "      resolve(e.target.files);\n",
              "    });\n",
              "  });\n",
              "\n",
              "  const cancel = document.createElement('button');\n",
              "  inputElement.parentElement.appendChild(cancel);\n",
              "  cancel.textContent = 'Cancel upload';\n",
              "  const cancelPromise = new Promise((resolve) => {\n",
              "    cancel.onclick = () => {\n",
              "      resolve(null);\n",
              "    };\n",
              "  });\n",
              "\n",
              "  // Wait for the user to pick the files.\n",
              "  const files = yield {\n",
              "    promise: Promise.race([pickedPromise, cancelPromise]),\n",
              "    response: {\n",
              "      action: 'starting',\n",
              "    }\n",
              "  };\n",
              "\n",
              "  cancel.remove();\n",
              "\n",
              "  // Disable the input element since further picks are not allowed.\n",
              "  inputElement.disabled = true;\n",
              "\n",
              "  if (!files) {\n",
              "    return {\n",
              "      response: {\n",
              "        action: 'complete',\n",
              "      }\n",
              "    };\n",
              "  }\n",
              "\n",
              "  for (const file of files) {\n",
              "    const li = document.createElement('li');\n",
              "    li.append(span(file.name, {fontWeight: 'bold'}));\n",
              "    li.append(span(\n",
              "        `(${file.type || 'n/a'}) - ${file.size} bytes, ` +\n",
              "        `last modified: ${\n",
              "            file.lastModifiedDate ? file.lastModifiedDate.toLocaleDateString() :\n",
              "                                    'n/a'} - `));\n",
              "    const percent = span('0% done');\n",
              "    li.appendChild(percent);\n",
              "\n",
              "    outputElement.appendChild(li);\n",
              "\n",
              "    const fileDataPromise = new Promise((resolve) => {\n",
              "      const reader = new FileReader();\n",
              "      reader.onload = (e) => {\n",
              "        resolve(e.target.result);\n",
              "      };\n",
              "      reader.readAsArrayBuffer(file);\n",
              "    });\n",
              "    // Wait for the data to be ready.\n",
              "    let fileData = yield {\n",
              "      promise: fileDataPromise,\n",
              "      response: {\n",
              "        action: 'continue',\n",
              "      }\n",
              "    };\n",
              "\n",
              "    // Use a chunked sending to avoid message size limits. See b/62115660.\n",
              "    let position = 0;\n",
              "    do {\n",
              "      const length = Math.min(fileData.byteLength - position, MAX_PAYLOAD_SIZE);\n",
              "      const chunk = new Uint8Array(fileData, position, length);\n",
              "      position += length;\n",
              "\n",
              "      const base64 = btoa(String.fromCharCode.apply(null, chunk));\n",
              "      yield {\n",
              "        response: {\n",
              "          action: 'append',\n",
              "          file: file.name,\n",
              "          data: base64,\n",
              "        },\n",
              "      };\n",
              "\n",
              "      let percentDone = fileData.byteLength === 0 ?\n",
              "          100 :\n",
              "          Math.round((position / fileData.byteLength) * 100);\n",
              "      percent.textContent = `${percentDone}% done`;\n",
              "\n",
              "    } while (position < fileData.byteLength);\n",
              "  }\n",
              "\n",
              "  // All done.\n",
              "  yield {\n",
              "    response: {\n",
              "      action: 'complete',\n",
              "    }\n",
              "  };\n",
              "}\n",
              "\n",
              "scope.google = scope.google || {};\n",
              "scope.google.colab = scope.google.colab || {};\n",
              "scope.google.colab._files = {\n",
              "  _uploadFiles,\n",
              "  _uploadFilesContinue,\n",
              "};\n",
              "})(self);\n",
              "</script> "
            ]
          },
          "metadata": {}
        },
        {
          "output_type": "stream",
          "name": "stdout",
          "text": [
            "Saving kaggle.json to kaggle.json\n",
            "Dataset URL: https://www.kaggle.com/datasets/andradaolteanu/gtzan-dataset-music-genre-classification\n",
            "License(s): other\n",
            "Downloading gtzan-dataset-music-genre-classification.zip to /content\n",
            " 97% 1.18G/1.21G [00:11<00:00, 186MB/s]\n",
            "100% 1.21G/1.21G [00:11<00:00, 110MB/s]\n",
            "['blues', 'classical', 'country', 'disco', 'hiphop', 'jazz', 'metal', 'pop', 'reggae', 'rock']\n"
          ]
        }
      ]
    },
    {
      "cell_type": "code",
      "source": [
        "# ✅ Import libraries\n",
        "import os\n",
        "import librosa\n",
        "import numpy as np\n",
        "import matplotlib.pyplot as plt\n",
        "import tensorflow as tf\n",
        "from sklearn.model_selection import train_test_split\n",
        "from sklearn.preprocessing import LabelEncoder\n",
        "from sklearn.metrics import classification_report, confusion_matrix\n",
        "from keras.utils import to_categorical\n",
        "from tqdm import tqdm\n",
        "import seaborn as sns\n",
        "\n",
        "# ✅ Dataset path (upload to this location in Colab)\n",
        "DATA_PATH = \"/content/Data/genres_original\"\n",
        "\n",
        "# ✅ Parameters\n",
        "SAMPLES_PER_TRACK = 660000\n",
        "MAX_LEN = 130\n",
        "N_MFCC = 40\n",
        "\n",
        "# ✅ Feature extractor\n",
        "def extract_features(file_path):\n",
        "    try:\n",
        "        audio, sr = librosa.load(file_path, duration=30)\n",
        "        mfcc = librosa.feature.mfcc(y=audio, sr=sr, n_mfcc=N_MFCC)\n",
        "        if mfcc.shape[1] < MAX_LEN:\n",
        "            mfcc = np.pad(mfcc, ((0, 0), (0, MAX_LEN - mfcc.shape[1])), mode='constant')\n",
        "        else:\n",
        "            mfcc = mfcc[:, :MAX_LEN]\n",
        "        return mfcc\n",
        "    except Exception as e:\n",
        "        print(f\"❌ Failed for {file_path}: {e}\")\n",
        "        return None\n",
        "\n",
        "# ✅ Load data\n",
        "X, y = [], []\n",
        "genres = os.listdir(DATA_PATH)\n",
        "for genre in genres:\n",
        "    genre_path = os.path.join(DATA_PATH, genre)\n",
        "    if not os.path.isdir(genre_path): continue\n",
        "    for file in tqdm(os.listdir(genre_path), desc=f\"Processing {genre}\"):\n",
        "        if file.endswith((\".wav\", \".mp3\", \".mp4\")):\n",
        "            file_path = os.path.join(genre_path, file)\n",
        "            mfcc = extract_features(file_path)\n",
        "            if mfcc is not None:\n",
        "                X.append(mfcc)\n",
        "                y.append(genre)\n",
        "\n",
        "# ✅ Preprocessing\n",
        "X = np.array(X)[..., np.newaxis]\n",
        "y = np.array(y)\n",
        "encoder = LabelEncoder()\n",
        "y_encoded = to_categorical(encoder.fit_transform(y))\n",
        "X_train, X_test, y_train, y_test = train_test_split(X, y_encoded, test_size=0.2, random_state=42)\n",
        "\n",
        "# ✅ CNN model definition\n",
        "model = tf.keras.Sequential([\n",
        "    tf.keras.layers.Conv2D(32, (3, 3), activation='relu', input_shape=(N_MFCC, MAX_LEN, 1)),\n",
        "    tf.keras.layers.MaxPooling2D((2, 2)),\n",
        "    tf.keras.layers.BatchNormalization(),\n",
        "    tf.keras.layers.Conv2D(64, (3, 3), activation='relu'),\n",
        "    tf.keras.layers.MaxPooling2D((2, 2)),\n",
        "    tf.keras.layers.BatchNormalization(),\n",
        "    tf.keras.layers.Flatten(),\n",
        "    tf.keras.layers.Dense(128, activation='relu'),\n",
        "    tf.keras.layers.Dropout(0.3),\n",
        "    tf.keras.layers.Dense(len(np.unique(y)), activation='softmax')\n",
        "])\n",
        "\n",
        "# ✅ Compile and train\n",
        "model.compile(optimizer='adam', loss='categorical_crossentropy', metrics=['accuracy'])\n",
        "history = model.fit(X_train, y_train, validation_data=(X_test, y_test), epochs=30, batch_size=32)\n",
        "\n",
        "# ✅ Save model\n",
        "model.save(\"genre_cnn.keras\")\n",
        "print(\"✅ Model saved as genre_cnn.keras\")\n"
      ],
      "metadata": {
        "colab": {
          "base_uri": "https://localhost:8080/"
        },
        "id": "T1yBKl4tC7W1",
        "outputId": "6d0725b2-f7c5-43fd-8882-de4a47e202a3"
      },
      "id": "T1yBKl4tC7W1",
      "execution_count": 77,
      "outputs": [
        {
          "output_type": "stream",
          "name": "stderr",
          "text": [
            "Processing jazz:  63%|██████▎   | 63/100 [00:04<00:02, 15.42it/s]/tmp/ipython-input-77-1780648233.py:25: UserWarning: PySoundFile failed. Trying audioread instead.\n",
            "  audio, sr = librosa.load(file_path, duration=30)\n",
            "/usr/local/lib/python3.11/dist-packages/librosa/core/audio.py:184: FutureWarning: librosa.core.audio.__audioread_load\n",
            "\tDeprecated as of librosa version 0.10.0.\n",
            "\tIt will be removed in librosa version 1.0.\n",
            "  y, sr_native = __audioread_load(path, offset, duration, dtype)\n",
            "Processing jazz:  68%|██████▊   | 68/100 [00:05<00:02, 10.85it/s]"
          ]
        },
        {
          "output_type": "stream",
          "name": "stdout",
          "text": [
            "❌ Failed for /content/Data/genres_original/jazz/jazz.00054.wav: \n"
          ]
        },
        {
          "output_type": "stream",
          "name": "stderr",
          "text": [
            "Processing jazz: 100%|██████████| 100/100 [00:07<00:00, 13.00it/s]\n",
            "Processing disco: 100%|██████████| 100/100 [00:12<00:00,  7.86it/s]\n",
            "Processing rock: 100%|██████████| 100/100 [00:09<00:00, 10.18it/s]\n",
            "Processing pop: 100%|██████████| 100/100 [00:08<00:00, 11.16it/s]\n",
            "Processing metal: 100%|██████████| 100/100 [00:06<00:00, 16.33it/s]\n",
            "Processing blues: 100%|██████████| 100/100 [00:04<00:00, 23.87it/s]\n",
            "Processing country: 100%|██████████| 100/100 [00:04<00:00, 23.70it/s]\n",
            "Processing classical: 100%|██████████| 100/100 [00:05<00:00, 17.51it/s]\n",
            "Processing hiphop: 100%|██████████| 100/100 [00:04<00:00, 24.12it/s]\n",
            "Processing reggae: 100%|██████████| 100/100 [00:04<00:00, 23.23it/s]\n",
            "/usr/local/lib/python3.11/dist-packages/keras/src/layers/convolutional/base_conv.py:107: UserWarning: Do not pass an `input_shape`/`input_dim` argument to a layer. When using Sequential models, prefer using an `Input(shape)` object as the first layer in the model instead.\n",
            "  super().__init__(activity_regularizer=activity_regularizer, **kwargs)\n"
          ]
        },
        {
          "output_type": "stream",
          "name": "stdout",
          "text": [
            "Epoch 1/30\n",
            "\u001b[1m25/25\u001b[0m \u001b[32m━━━━━━━━━━━━━━━━━━━━\u001b[0m\u001b[37m\u001b[0m \u001b[1m7s\u001b[0m 108ms/step - accuracy: 0.2379 - loss: 3.6156 - val_accuracy: 0.1600 - val_loss: 7.5550\n",
            "Epoch 2/30\n",
            "\u001b[1m25/25\u001b[0m \u001b[32m━━━━━━━━━━━━━━━━━━━━\u001b[0m\u001b[37m\u001b[0m \u001b[1m1s\u001b[0m 10ms/step - accuracy: 0.4816 - loss: 1.4449 - val_accuracy: 0.2000 - val_loss: 6.4831\n",
            "Epoch 3/30\n",
            "\u001b[1m25/25\u001b[0m \u001b[32m━━━━━━━━━━━━━━━━━━━━\u001b[0m\u001b[37m\u001b[0m \u001b[1m0s\u001b[0m 10ms/step - accuracy: 0.6989 - loss: 0.8688 - val_accuracy: 0.3500 - val_loss: 3.9097\n",
            "Epoch 4/30\n",
            "\u001b[1m25/25\u001b[0m \u001b[32m━━━━━━━━━━━━━━━━━━━━\u001b[0m\u001b[37m\u001b[0m \u001b[1m0s\u001b[0m 10ms/step - accuracy: 0.8341 - loss: 0.4988 - val_accuracy: 0.3850 - val_loss: 2.4532\n",
            "Epoch 5/30\n",
            "\u001b[1m25/25\u001b[0m \u001b[32m━━━━━━━━━━━━━━━━━━━━\u001b[0m\u001b[37m\u001b[0m \u001b[1m0s\u001b[0m 10ms/step - accuracy: 0.9201 - loss: 0.2722 - val_accuracy: 0.4850 - val_loss: 1.8399\n",
            "Epoch 6/30\n",
            "\u001b[1m25/25\u001b[0m \u001b[32m━━━━━━━━━━━━━━━━━━━━\u001b[0m\u001b[37m\u001b[0m \u001b[1m0s\u001b[0m 9ms/step - accuracy: 0.9205 - loss: 0.2129 - val_accuracy: 0.4850 - val_loss: 1.9395\n",
            "Epoch 7/30\n",
            "\u001b[1m25/25\u001b[0m \u001b[32m━━━━━━━━━━━━━━━━━━━━\u001b[0m\u001b[37m\u001b[0m \u001b[1m0s\u001b[0m 9ms/step - accuracy: 0.9754 - loss: 0.1025 - val_accuracy: 0.4950 - val_loss: 2.4616\n",
            "Epoch 8/30\n",
            "\u001b[1m25/25\u001b[0m \u001b[32m━━━━━━━━━━━━━━━━━━━━\u001b[0m\u001b[37m\u001b[0m \u001b[1m0s\u001b[0m 10ms/step - accuracy: 0.9727 - loss: 0.0914 - val_accuracy: 0.5050 - val_loss: 1.7626\n",
            "Epoch 9/30\n",
            "\u001b[1m25/25\u001b[0m \u001b[32m━━━━━━━━━━━━━━━━━━━━\u001b[0m\u001b[37m\u001b[0m \u001b[1m0s\u001b[0m 9ms/step - accuracy: 0.9647 - loss: 0.0982 - val_accuracy: 0.5450 - val_loss: 1.6981\n",
            "Epoch 10/30\n",
            "\u001b[1m25/25\u001b[0m \u001b[32m━━━━━━━━━━━━━━━━━━━━\u001b[0m\u001b[37m\u001b[0m \u001b[1m0s\u001b[0m 8ms/step - accuracy: 0.9710 - loss: 0.0852 - val_accuracy: 0.5200 - val_loss: 1.7289\n",
            "Epoch 11/30\n",
            "\u001b[1m25/25\u001b[0m \u001b[32m━━━━━━━━━━━━━━━━━━━━\u001b[0m\u001b[37m\u001b[0m \u001b[1m0s\u001b[0m 8ms/step - accuracy: 0.9793 - loss: 0.0752 - val_accuracy: 0.5250 - val_loss: 1.7522\n",
            "Epoch 12/30\n",
            "\u001b[1m25/25\u001b[0m \u001b[32m━━━━━━━━━━━━━━━━━━━━\u001b[0m\u001b[37m\u001b[0m \u001b[1m0s\u001b[0m 9ms/step - accuracy: 0.9809 - loss: 0.0536 - val_accuracy: 0.5050 - val_loss: 1.7388\n",
            "Epoch 13/30\n",
            "\u001b[1m25/25\u001b[0m \u001b[32m━━━━━━━━━━━━━━━━━━━━\u001b[0m\u001b[37m\u001b[0m \u001b[1m0s\u001b[0m 10ms/step - accuracy: 0.9911 - loss: 0.0499 - val_accuracy: 0.5300 - val_loss: 1.8253\n",
            "Epoch 14/30\n",
            "\u001b[1m25/25\u001b[0m \u001b[32m━━━━━━━━━━━━━━━━━━━━\u001b[0m\u001b[37m\u001b[0m \u001b[1m0s\u001b[0m 8ms/step - accuracy: 0.9824 - loss: 0.0785 - val_accuracy: 0.4950 - val_loss: 1.9366\n",
            "Epoch 15/30\n",
            "\u001b[1m25/25\u001b[0m \u001b[32m━━━━━━━━━━━━━━━━━━━━\u001b[0m\u001b[37m\u001b[0m \u001b[1m0s\u001b[0m 8ms/step - accuracy: 0.9856 - loss: 0.0471 - val_accuracy: 0.5200 - val_loss: 1.9166\n",
            "Epoch 16/30\n",
            "\u001b[1m25/25\u001b[0m \u001b[32m━━━━━━━━━━━━━━━━━━━━\u001b[0m\u001b[37m\u001b[0m \u001b[1m0s\u001b[0m 10ms/step - accuracy: 0.9831 - loss: 0.0548 - val_accuracy: 0.5350 - val_loss: 2.0723\n",
            "Epoch 17/30\n",
            "\u001b[1m25/25\u001b[0m \u001b[32m━━━━━━━━━━━━━━━━━━━━\u001b[0m\u001b[37m\u001b[0m \u001b[1m0s\u001b[0m 8ms/step - accuracy: 0.9907 - loss: 0.0454 - val_accuracy: 0.5300 - val_loss: 2.0287\n",
            "Epoch 18/30\n",
            "\u001b[1m25/25\u001b[0m \u001b[32m━━━━━━━━━━━━━━━━━━━━\u001b[0m\u001b[37m\u001b[0m \u001b[1m0s\u001b[0m 8ms/step - accuracy: 0.9724 - loss: 0.0655 - val_accuracy: 0.4950 - val_loss: 2.0293\n",
            "Epoch 19/30\n",
            "\u001b[1m25/25\u001b[0m \u001b[32m━━━━━━━━━━━━━━━━━━━━\u001b[0m\u001b[37m\u001b[0m \u001b[1m0s\u001b[0m 11ms/step - accuracy: 0.9778 - loss: 0.0610 - val_accuracy: 0.5300 - val_loss: 1.9436\n",
            "Epoch 20/30\n",
            "\u001b[1m25/25\u001b[0m \u001b[32m━━━━━━━━━━━━━━━━━━━━\u001b[0m\u001b[37m\u001b[0m \u001b[1m1s\u001b[0m 11ms/step - accuracy: 0.9923 - loss: 0.0301 - val_accuracy: 0.5300 - val_loss: 1.8531\n",
            "Epoch 21/30\n",
            "\u001b[1m25/25\u001b[0m \u001b[32m━━━━━━━━━━━━━━━━━━━━\u001b[0m\u001b[37m\u001b[0m \u001b[1m0s\u001b[0m 11ms/step - accuracy: 0.9927 - loss: 0.0292 - val_accuracy: 0.5350 - val_loss: 2.2311\n",
            "Epoch 22/30\n",
            "\u001b[1m25/25\u001b[0m \u001b[32m━━━━━━━━━━━━━━━━━━━━\u001b[0m\u001b[37m\u001b[0m \u001b[1m0s\u001b[0m 12ms/step - accuracy: 0.9828 - loss: 0.0592 - val_accuracy: 0.5200 - val_loss: 2.3966\n",
            "Epoch 23/30\n",
            "\u001b[1m25/25\u001b[0m \u001b[32m━━━━━━━━━━━━━━━━━━━━\u001b[0m\u001b[37m\u001b[0m \u001b[1m1s\u001b[0m 11ms/step - accuracy: 0.9696 - loss: 0.0820 - val_accuracy: 0.5400 - val_loss: 2.6126\n",
            "Epoch 24/30\n",
            "\u001b[1m25/25\u001b[0m \u001b[32m━━━━━━━━━━━━━━━━━━━━\u001b[0m\u001b[37m\u001b[0m \u001b[1m0s\u001b[0m 9ms/step - accuracy: 0.9832 - loss: 0.0579 - val_accuracy: 0.5250 - val_loss: 2.7184\n",
            "Epoch 25/30\n",
            "\u001b[1m25/25\u001b[0m \u001b[32m━━━━━━━━━━━━━━━━━━━━\u001b[0m\u001b[37m\u001b[0m \u001b[1m0s\u001b[0m 9ms/step - accuracy: 0.9762 - loss: 0.0844 - val_accuracy: 0.5200 - val_loss: 2.3637\n",
            "Epoch 26/30\n",
            "\u001b[1m25/25\u001b[0m \u001b[32m━━━━━━━━━━━━━━━━━━━━\u001b[0m\u001b[37m\u001b[0m \u001b[1m0s\u001b[0m 9ms/step - accuracy: 0.9824 - loss: 0.0628 - val_accuracy: 0.4950 - val_loss: 2.6714\n",
            "Epoch 27/30\n",
            "\u001b[1m25/25\u001b[0m \u001b[32m━━━━━━━━━━━━━━━━━━━━\u001b[0m\u001b[37m\u001b[0m \u001b[1m0s\u001b[0m 9ms/step - accuracy: 0.9920 - loss: 0.0297 - val_accuracy: 0.4950 - val_loss: 2.3018\n",
            "Epoch 28/30\n",
            "\u001b[1m25/25\u001b[0m \u001b[32m━━━━━━━━━━━━━━━━━━━━\u001b[0m\u001b[37m\u001b[0m \u001b[1m0s\u001b[0m 9ms/step - accuracy: 0.9914 - loss: 0.0248 - val_accuracy: 0.4950 - val_loss: 2.5297\n",
            "Epoch 29/30\n",
            "\u001b[1m25/25\u001b[0m \u001b[32m━━━━━━━━━━━━━━━━━━━━\u001b[0m\u001b[37m\u001b[0m \u001b[1m0s\u001b[0m 14ms/step - accuracy: 0.9863 - loss: 0.0574 - val_accuracy: 0.5700 - val_loss: 2.5221\n",
            "Epoch 30/30\n",
            "\u001b[1m25/25\u001b[0m \u001b[32m━━━━━━━━━━━━━━━━━━━━\u001b[0m\u001b[37m\u001b[0m \u001b[1m1s\u001b[0m 10ms/step - accuracy: 0.9946 - loss: 0.0223 - val_accuracy: 0.5150 - val_loss: 2.3331\n",
            "✅ Model saved as genre_cnn.keras\n"
          ]
        }
      ]
    },
    {
      "cell_type": "code",
      "source": [
        "# ✅ Plot accuracy & loss\n",
        "plt.figure(figsize=(10, 4))\n",
        "plt.subplot(1, 2, 1)\n",
        "plt.plot(history.history['accuracy'], label='Train')\n",
        "plt.plot(history.history['val_accuracy'], label='Validation')\n",
        "plt.title(\"Model Accuracy\")\n",
        "plt.legend()\n",
        "plt.subplot(1, 2, 2)\n",
        "plt.plot(history.history['loss'], label='Train')\n",
        "plt.plot(history.history['val_loss'], label='Validation')\n",
        "plt.title(\"Model Loss\")\n",
        "plt.legend()\n",
        "plt.tight_layout()\n",
        "plt.show()"
      ],
      "metadata": {
        "colab": {
          "base_uri": "https://localhost:8080/",
          "height": 407
        },
        "id": "jAEWvJ2GLjtB",
        "outputId": "2cfcf401-e20f-4c26-8f4a-e3096c71bb89"
      },
      "id": "jAEWvJ2GLjtB",
      "execution_count": 78,
      "outputs": [
        {
          "output_type": "display_data",
          "data": {
            "text/plain": [
              "<Figure size 1000x400 with 2 Axes>"
            ],
            "image/png": "[encoded data removed]"
          },
          "metadata": {}
        }
      ]
    },
    {
      "cell_type": "code",
      "source": [
        "# ✅ Evaluate performance\n",
        "y_true = np.argmax(y_test, axis=1)\n",
        "y_pred = np.argmax(model.predict(X_test), axis=1)\n",
        "cm = confusion_matrix(y_true, y_pred)\n",
        "plt.figure(figsize=(10, 8))\n",
        "sns.heatmap(cm, annot=True, fmt='g', xticklabels=encoder.classes_, yticklabels=encoder.classes_)\n",
        "plt.xlabel(\"Predicted\")\n",
        "plt.ylabel(\"True\")\n",
        "plt.title(\"Confusion Matrix\")\n",
        "plt.show()\n",
        "print(classification_report(y_true, y_pred, target_names=encoder.classes_))"
      ],
      "metadata": {
        "colab": {
          "base_uri": "https://localhost:8080/",
          "height": 1000
        },
        "id": "h_sxwfFXLjbP",
        "outputId": "21e65aef-20c0-418b-b949-20e0bb384849"
      },
      "id": "h_sxwfFXLjbP",
      "execution_count": 79,
      "outputs": [
        {
          "output_type": "stream",
          "name": "stderr",
          "text": [
            "WARNING:tensorflow:5 out of the last 15 calls to <function TensorFlowTrainer.make_predict_function.<locals>.one_step_on_data_distributed at 0x7b209aa5ac00> triggered tf.function retracing. Tracing is expensive and the excessive number of tracings could be due to (1) creating @tf.function repeatedly in a loop, (2) passing tensors with different shapes, (3) passing Python objects instead of tensors. For (1), please define your @tf.function outside of the loop. For (2), @tf.function has reduce_retracing=True option that can avoid unnecessary retracing. For (3), please refer to https://www.tensorflow.org/guide/function#controlling_retracing and https://www.tensorflow.org/api_docs/python/tf/function for  more details.\n"
          ]
        },
        {
          "output_type": "stream",
          "name": "stdout",
          "text": [
            "\u001b[1m7/7\u001b[0m \u001b[32m━━━━━━━━━━━━━━━━━━━━\u001b[0m\u001b[37m\u001b[0m \u001b[1m1s\u001b[0m 47ms/step\n"
          ]
        },
        {
          "output_type": "display_data",
          "data": {
            "text/plain": [
              "<Figure size 1000x800 with 2 Axes>"
            ],
            "image/png": "[encoded data removed]"
          },
          "metadata": {}
        },
        {
          "output_type": "stream",
          "name": "stdout",
          "text": [
            "              precision    recall  f1-score   support\n",
            "\n",
            "       blues       0.56      0.52      0.54        27\n",
            "   classical       0.71      0.89      0.79        19\n",
            "     country       0.45      0.50      0.47        18\n",
            "       disco       0.23      0.45      0.30        11\n",
            "      hiphop       0.56      0.41      0.47        22\n",
            "        jazz       0.55      0.57      0.56        21\n",
            "       metal       0.80      0.80      0.80        15\n",
            "         pop       0.60      0.39      0.47        23\n",
            "      reggae       0.44      0.60      0.51        20\n",
            "        rock       0.29      0.17      0.21        24\n",
            "\n",
            "    accuracy                           0.52       200\n",
            "   macro avg       0.52      0.53      0.51       200\n",
            "weighted avg       0.52      0.52      0.51       200\n",
            "\n"
          ]
        }
      ]
    },
    {
      "cell_type": "code",
      "source": [
        "# Save Streamlit app into app.py\n",
        "app_code = \"\"\"\n",
        "import streamlit as st\n",
        "import librosa\n",
        "import numpy as np\n",
        "import tensorflow as tf\n",
        "import matplotlib.pyplot as plt\n",
        "import seaborn as sns\n",
        "from keras.models import load_model\n",
        "from sklearn.preprocessing import LabelEncoder\n",
        "\n",
        "N_MFCC = 40\n",
        "MAX_LEN = 130\n",
        "MODEL_PATH = \"genre_cnn.keras\"\n",
        "LABELS = ['blues', 'classical', 'country', 'disco', 'hiphop',\n",
        "          'jazz', 'metal', 'pop', 'reggae', 'rock']\n",
        "\n",
        "model = load_model(MODEL_PATH)\n",
        "encoder = LabelEncoder()\n",
        "encoder.fit(LABELS)\n",
        "\n",
        "def extract_features(audio_path):\n",
        "    try:\n",
        "        audio, sr = librosa.load(audio_path, duration=30)\n",
        "        mfcc = librosa.feature.mfcc(y=audio, sr=sr, n_mfcc=N_MFCC)\n",
        "        if mfcc.shape[1] < MAX_LEN:\n",
        "            mfcc = np.pad(mfcc, ((0, 0), (0, MAX_LEN - mfcc.shape[1])), mode='constant')\n",
        "        else:\n",
        "            mfcc = mfcc[:, :MAX_LEN]\n",
        "        return mfcc[..., np.newaxis]\n",
        "    except Exception as e:\n",
        "        st.error(f\"❌ Audio load failed: {e}\")\n",
        "        return None\n",
        "\n",
        "st.set_page_config(page_title=\"🎵 Music Genre Classifier\", layout=\"centered\")\n",
        "st.title(\"🎧 Music Genre Classifier\")\n",
        "st.write(\"Upload an audio file (`.mp3`, `.wav`, `.mp4`) to predict its genre.\")\n",
        "\n",
        "audio_file = st.file_uploader(\"Upload your audio file\", type=[\"wav\", \"mp3\", \"mp4\"])\n",
        "\n",
        "if audio_file is not None:\n",
        "    st.success(f\"✅ File uploaded: {audio_file.name}\")\n",
        "    with open(\"temp_audio\", \"wb\") as f:\n",
        "        f.write(audio_file.read())\n",
        "\n",
        "    features = extract_features(\"temp_audio\")\n",
        "\n",
        "    if features is not None:\n",
        "        features = np.expand_dims(features, axis=0)\n",
        "        prediction = model.predict(features)[0]\n",
        "        predicted_index = np.argmax(prediction)\n",
        "        predicted_label = encoder.inverse_transform([predicted_index])[0]\n",
        "        confidence = prediction[predicted_index]\n",
        "\n",
        "        st.markdown(f\"### 🎶 Predicted Genre: **{predicted_label.upper()}**\")\n",
        "        st.markdown(f\"### 🔮 Confidence: `{confidence:.2%}`\")\n",
        "\n",
        "        st.markdown(\"#### 🎯 Genre Prediction Probabilities\")\n",
        "        fig, ax = plt.subplots(figsize=(10, 4))\n",
        "        sns.barplot(x=encoder.classes_, y=prediction, palette=\"viridis\", ax=ax)\n",
        "        plt.xticks(rotation=45)\n",
        "        plt.ylabel(\"Probability\")\n",
        "        st.pyplot(fig)\n",
        "\"\"\"\n",
        "\n",
        "with open(\"app.py\", \"w\") as f:\n",
        "    f.write(app_code)\n"
      ],
      "metadata": {
        "id": "gOrwRGjXD0RA"
      },
      "id": "gOrwRGjXD0RA",
      "execution_count": 80,
      "outputs": []
    },
    {
      "cell_type": "code",
      "source": [
        "!pip install streamlit pyngrok pydub ffmpeg-python --quiet"
      ],
      "metadata": {
        "id": "8ka3lOEg5AIy"
      },
      "id": "8ka3lOEg5AIy",
      "execution_count": 32,
      "outputs": []
    },
    {
      "cell_type": "code",
      "source": [
        "!pip install streamlit pyngrok --quiet\n",
        "!ngrok config add-authtoken 2yocmruTsVtX8DwYOPfPfda1ziJ_63UW4KK64WVMyAZcBVo4G"
      ],
      "metadata": {
        "id": "TNzMQXWozaqO",
        "colab": {
          "base_uri": "https://localhost:8080/"
        },
        "outputId": "4178ee32-a731-4c23-d3c6-f6c6d24673b4"
      },
      "id": "TNzMQXWozaqO",
      "execution_count": 81,
      "outputs": [
        {
          "output_type": "stream",
          "name": "stdout",
          "text": [
            "Authtoken saved to configuration file: /root/.config/ngrok/ngrok.yml\n"
          ]
        }
      ]
    },
    {
      "cell_type": "code",
      "source": [
        "!pkill streamlit\n",
        "!killall ngrok"
      ],
      "metadata": {
        "id": "hWlOO97i28eF"
      },
      "id": "hWlOO97i28eF",
      "execution_count": 82,
      "outputs": []
    },
    {
      "cell_type": "code",
      "source": [
        "!pkill streamlit  # kill stuck process\n",
        "!streamlit run app.py &>/content/logs.txt &\n",
        "\n",
        "import time\n",
        "from pyngrok import ngrok\n",
        "time.sleep(5)\n",
        "public_url = ngrok.connect(addr=\"8501\", proto=\"http\")\n",
        "print(\"🔗 App URL:\", public_url)"
      ],
      "metadata": {
        "colab": {
          "base_uri": "https://localhost:8080/"
        },
        "id": "TUjcqYlJ1FCR",
        "outputId": "43bea3f0-d249-4a1e-f442-28c50faf1090"
      },
      "id": "TUjcqYlJ1FCR",
      "execution_count": 83,
      "outputs": [
        {
          "output_type": "stream",
          "name": "stdout",
          "text": [
            "🔗 App URL: NgrokTunnel: \"https://edee-34-16-181-8.ngrok-free.app\" -> \"http://localhost:8501\"\n"
          ]
        }
      ]
    }
  ],
  "metadata": {
    "colab": {
      "provenance": [],
      "gpuType": "T4",
      "include_colab_link": true
    },
    "accelerator": "GPU",
    "language_info": {
      "name": "python"
    },
    "kernelspec": {
      "name": "python3",
      "display_name": "Python 3"
    }
  },
  "nbformat": 4,
  "nbformat_minor": 5
}