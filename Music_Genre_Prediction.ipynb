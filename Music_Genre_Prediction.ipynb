{
  "cells": [
    {
      "cell_type": "markdown",
      "metadata": {
        "id": "view-in-github",
        "colab_type": "text"
      },
      "source": [
        "<a href=\"https://colab.research.google.com/github/OBILISETTVYSHNAVI/music-genre-prediction/blob/main/Music_Genre_Prediction.ipynb\" target=\"_parent\"><img src=\"https://colab.research.google.com/assets/colab-badge.svg\" alt=\"Open In Colab\"/></a>"
      ]
    },
    {
      "cell_type": "code",
      "source": [
        "!pip install -q librosa tensorflow scikit-learn matplotlib pydub streamlit pyngrok soundfile\n",
        "\n",
        "# 🔑 Upload your Kaggle API key\n",
        "from google.colab import files\n",
        "files.upload()  # Upload kaggle.json here\n",
        "\n",
        "# Setup Kaggle\n",
        "!mkdir -p ~/.kaggle\n",
        "!cp kaggle.json ~/.kaggle/\n",
        "!chmod 600 ~/.kaggle/kaggle.json\n",
        "\n",
        "# ✅ Download GTZAN dataset from working source\n",
        "!kaggle datasets download -d andradaolteanu/gtzan-dataset-music-genre-classification\n",
        "!unzip -q gtzan-dataset-music-genre-classification.zip\n",
        "\n",
        "import os\n",
        "DATA_DIR = \"/content/Data/genres_original\"\n",
        "genres = sorted(os.listdir(DATA_DIR))\n",
        "print(genres)\n"
      ],
      "metadata": {
        "colab": {
          "base_uri": "https://localhost:8080/",
          "height": 246
        },
        "id": "PKVj3-8p85Px",
        "outputId": "98fee423-b7c1-4858-cc37-9a423d0fd1cc"
      },
      "id": "PKVj3-8p85Px",
      "execution_count": 2,
      "outputs": [
        {
          "output_type": "stream",
          "name": "stdout",
          "text": [
            "\u001b[2K     \u001b[90m━━━━━━━━━━━━━━━━━━━━━━━━━━━━━━━━━━━━━━━━\u001b[0m \u001b[32m44.3/44.3 kB\u001b[0m \u001b[31m1.7 MB/s\u001b[0m eta \u001b[36m0:00:00\u001b[0m\n",
            "\u001b[2K   \u001b[90m━━━━━━━━━━━━━━━━━━━━━━━━━━━━━━━━━━━━━━━━\u001b[0m \u001b[32m10.1/10.1 MB\u001b[0m \u001b[31m67.3 MB/s\u001b[0m eta \u001b[36m0:00:00\u001b[0m\n",
            "\u001b[2K   \u001b[90m━━━━━━━━━━━━━━━━━━━━━━━━━━━━━━━━━━━━━━━━\u001b[0m \u001b[32m6.9/6.9 MB\u001b[0m \u001b[31m104.3 MB/s\u001b[0m eta \u001b[36m0:00:00\u001b[0m\n",
            "\u001b[2K   \u001b[90m━━━━━━━━━━━━━━━━━━━━━━━━━━━━━━━━━━━━━━━━\u001b[0m \u001b[32m79.1/79.1 kB\u001b[0m \u001b[31m4.1 MB/s\u001b[0m eta \u001b[36m0:00:00\u001b[0m\n",
            "\u001b[?25h"
          ]
        },
        {
          "output_type": "display_data",
          "data": {
            "text/plain": [
              "<IPython.core.display.HTML object>"
            ],
            "text/html": [
              "\n",
              "     <input type=\"file\" id=\"files-962319a0-54fa-4e01-b7bb-8b4b419d34d7\" name=\"files[]\" multiple disabled\n",
              "        style=\"border:none\" />\n",
              "     <output id=\"result-962319a0-54fa-4e01-b7bb-8b4b419d34d7\">\n",
              "      Upload widget is only available when the cell has been executed in the\n",
              "      current browser session. Please rerun this cell to enable.\n",
              "      </output>\n",
              "      <script>// Copyright 2017 Google LLC\n",
              "//\n",
              "// Licensed under the Apache License, Version 2.0 (the \"License\");\n",
              "// you may not use this file except in compliance with the License.\n",
              "// You may obtain a copy of the License at\n",
              "//\n",
              "//      http://www.apache.org/licenses/LICENSE-2.0\n",
              "//\n",
              "// Unless required by applicable law or agreed to in writing, software\n",
              "// distributed under the License is distributed on an \"AS IS\" BASIS,\n",
              "// WITHOUT WARRANTIES OR CONDITIONS OF ANY KIND, either express or implied.\n",
              "// See the License for the specific language governing permissions and\n",
              "// limitations under the License.\n",
              "\n",
              "/**\n",
              " * @fileoverview Helpers for google.colab Python module.\n",
              " */\n",
              "(function(scope) {\n",
              "function span(text, styleAttributes = {}) {\n",
              "  const element = document.createElement('span');\n",
              "  element.textContent = text;\n",
              "  for (const key of Object.keys(styleAttributes)) {\n",
              "    element.style[key] = styleAttributes[key];\n",
              "  }\n",
              "  return element;\n",
              "}\n",
              "\n",
              "// Max number of bytes which will be uploaded at a time.\n",
              "const MAX_PAYLOAD_SIZE = 100 * 1024;\n",
              "\n",
              "function _uploadFiles(inputId, outputId) {\n",
              "  const steps = uploadFilesStep(inputId, outputId);\n",
              "  const outputElement = document.getElementById(outputId);\n",
              "  // Cache steps on the outputElement to make it available for the next call\n",
              "  // to uploadFilesContinue from Python.\n",
              "  outputElement.steps = steps;\n",
              "\n",
              "  return _uploadFilesContinue(outputId);\n",
              "}\n",
              "\n",
              "// This is roughly an async generator (not supported in the browser yet),\n",
              "// where there are multiple asynchronous steps and the Python side is going\n",
              "// to poll for completion of each step.\n",
              "// This uses a Promise to block the python side on completion of each step,\n",
              "// then passes the result of the previous step as the input to the next step.\n",
              "function _uploadFilesContinue(outputId) {\n",
              "  const outputElement = document.getElementById(outputId);\n",
              "  const steps = outputElement.steps;\n",
              "\n",
              "  const next = steps.next(outputElement.lastPromiseValue);\n",
              "  return Promise.resolve(next.value.promise).then((value) => {\n",
              "    // Cache the last promise value to make it available to the next\n",
              "    // step of the generator.\n",
              "    outputElement.lastPromiseValue = value;\n",
              "    return next.value.response;\n",
              "  });\n",
              "}\n",
              "\n",
              "/**\n",
              " * Generator function which is called between each async step of the upload\n",
              " * process.\n",
              " * @param {string} inputId Element ID of the input file picker element.\n",
              " * @param {string} outputId Element ID of the output display.\n",
              " * @return {!Iterable<!Object>} Iterable of next steps.\n",
              " */\n",
              "function* uploadFilesStep(inputId, outputId) {\n",
              "  const inputElement = document.getElementById(inputId);\n",
              "  inputElement.disabled = false;\n",
              "\n",
              "  const outputElement = document.getElementById(outputId);\n",
              "  outputElement.innerHTML = '';\n",
              "\n",
              "  const pickedPromise = new Promise((resolve) => {\n",
              "    inputElement.addEventListener('change', (e) => {\n",
              "      resolve(e.target.files);\n",
              "    });\n",
              "  });\n",
              "\n",
              "  const cancel = document.createElement('button');\n",
              "  inputElement.parentElement.appendChild(cancel);\n",
              "  cancel.textContent = 'Cancel upload';\n",
              "  const cancelPromise = new Promise((resolve) => {\n",
              "    cancel.onclick = () => {\n",
              "      resolve(null);\n",
              "    };\n",
              "  });\n",
              "\n",
              "  // Wait for the user to pick the files.\n",
              "  const files = yield {\n",
              "    promise: Promise.race([pickedPromise, cancelPromise]),\n",
              "    response: {\n",
              "      action: 'starting',\n",
              "    }\n",
              "  };\n",
              "\n",
              "  cancel.remove();\n",
              "\n",
              "  // Disable the input element since further picks are not allowed.\n",
              "  inputElement.disabled = true;\n",
              "\n",
              "  if (!files) {\n",
              "    return {\n",
              "      response: {\n",
              "        action: 'complete',\n",
              "      }\n",
              "    };\n",
              "  }\n",
              "\n",
              "  for (const file of files) {\n",
              "    const li = document.createElement('li');\n",
              "    li.append(span(file.name, {fontWeight: 'bold'}));\n",
              "    li.append(span(\n",
              "        `(${file.type || 'n/a'}) - ${file.size} bytes, ` +\n",
              "        `last modified: ${\n",
              "            file.lastModifiedDate ? file.lastModifiedDate.toLocaleDateString() :\n",
              "                                    'n/a'} - `));\n",
              "    const percent = span('0% done');\n",
              "    li.appendChild(percent);\n",
              "\n",
              "    outputElement.appendChild(li);\n",
              "\n",
              "    const fileDataPromise = new Promise((resolve) => {\n",
              "      const reader = new FileReader();\n",
              "      reader.onload = (e) => {\n",
              "        resolve(e.target.result);\n",
              "      };\n",
              "      reader.readAsArrayBuffer(file);\n",
              "    });\n",
              "    // Wait for the data to be ready.\n",
              "    let fileData = yield {\n",
              "      promise: fileDataPromise,\n",
              "      response: {\n",
              "        action: 'continue',\n",
              "      }\n",
              "    };\n",
              "\n",
              "    // Use a chunked sending to avoid message size limits. See b/62115660.\n",
              "    let position = 0;\n",
              "    do {\n",
              "      const length = Math.min(fileData.byteLength - position, MAX_PAYLOAD_SIZE);\n",
              "      const chunk = new Uint8Array(fileData, position, length);\n",
              "      position += length;\n",
              "\n",
              "      const base64 = btoa(String.fromCharCode.apply(null, chunk));\n",
              "      yield {\n",
              "        response: {\n",
              "          action: 'append',\n",
              "          file: file.name,\n",
              "          data: base64,\n",
              "        },\n",
              "      };\n",
              "\n",
              "      let percentDone = fileData.byteLength === 0 ?\n",
              "          100 :\n",
              "          Math.round((position / fileData.byteLength) * 100);\n",
              "      percent.textContent = `${percentDone}% done`;\n",
              "\n",
              "    } while (position < fileData.byteLength);\n",
              "  }\n",
              "\n",
              "  // All done.\n",
              "  yield {\n",
              "    response: {\n",
              "      action: 'complete',\n",
              "    }\n",
              "  };\n",
              "}\n",
              "\n",
              "scope.google = scope.google || {};\n",
              "scope.google.colab = scope.google.colab || {};\n",
              "scope.google.colab._files = {\n",
              "  _uploadFiles,\n",
              "  _uploadFilesContinue,\n",
              "};\n",
              "})(self);\n",
              "</script> "
            ]
          },
          "metadata": {}
        },
        {
          "output_type": "stream",
          "name": "stdout",
          "text": [
            "Saving kaggle.json to kaggle.json\n",
            "Dataset URL: https://www.kaggle.com/datasets/andradaolteanu/gtzan-dataset-music-genre-classification\n",
            "License(s): other\n",
            "Downloading gtzan-dataset-music-genre-classification.zip to /content\n",
            "100% 1.21G/1.21G [00:17<00:00, 43.4MB/s]\n",
            "100% 1.21G/1.21G [00:17<00:00, 76.1MB/s]\n",
            "['blues', 'classical', 'country', 'disco', 'hiphop', 'jazz', 'metal', 'pop', 'reggae', 'rock']\n"
          ]
        }
      ]
    },
    {
      "cell_type": "code",
      "source": [
        "import os\n",
        "import librosa\n",
        "import numpy as np\n",
        "import matplotlib.pyplot as plt\n",
        "import tensorflow as tf\n",
        "from sklearn.model_selection import train_test_split\n",
        "from sklearn.preprocessing import LabelEncoder\n",
        "from sklearn.metrics import classification_report, confusion_matrix\n",
        "from keras.utils import to_categorical\n",
        "from tqdm import tqdm\n",
        "import seaborn as sns\n",
        "\n",
        "# ✅ Dataset path (upload to this location in Colab)\n",
        "DATA_PATH = \"/content/Data/genres_original\"\n",
        "\n",
        "# ✅ Parameters\n",
        "SAMPLES_PER_TRACK = 660000\n",
        "MAX_LEN = 130\n",
        "N_MFCC = 40\n",
        "\n",
        "# ✅ Feature extractor\n",
        "def extract_features(file_path):\n",
        "    try:\n",
        "        audio, sr = librosa.load(file_path, duration=30)\n",
        "        mfcc = librosa.feature.mfcc(y=audio, sr=sr, n_mfcc=N_MFCC)\n",
        "        if mfcc.shape[1] < MAX_LEN:\n",
        "            mfcc = np.pad(mfcc, ((0, 0), (0, MAX_LEN - mfcc.shape[1])), mode='constant')\n",
        "        else:\n",
        "            mfcc = mfcc[:, :MAX_LEN]\n",
        "        return mfcc\n",
        "    except Exception as e:\n",
        "        print(f\"❌ Failed for {file_path}: {e}\")\n",
        "        return None\n",
        "\n",
        "# ✅ Load data\n",
        "X, y = [], []\n",
        "genres = os.listdir(DATA_PATH)\n",
        "for genre in genres:\n",
        "    genre_path = os.path.join(DATA_PATH, genre)\n",
        "    if not os.path.isdir(genre_path): continue\n",
        "    for file in tqdm(os.listdir(genre_path), desc=f\"Processing {genre}\"):\n",
        "        if file.endswith((\".wav\", \".mp3\", \".mp4\")):\n",
        "            file_path = os.path.join(genre_path, file)\n",
        "            mfcc = extract_features(file_path)\n",
        "            if mfcc is not None:\n",
        "                X.append(mfcc)\n",
        "                y.append(genre)\n",
        "\n",
        "# ✅ Preprocessing\n",
        "X = np.array(X)[..., np.newaxis]\n",
        "y = np.array(y)\n",
        "encoder = LabelEncoder()\n",
        "y_encoded = to_categorical(encoder.fit_transform(y))\n",
        "X_train, X_test, y_train, y_test = train_test_split(X, y_encoded, test_size=0.2, random_state=42)\n",
        "\n",
        "# ✅ CNN model definition\n",
        "model = tf.keras.Sequential([\n",
        "    tf.keras.layers.Conv2D(32, (3, 3), activation='relu', input_shape=(N_MFCC, MAX_LEN, 1)),\n",
        "    tf.keras.layers.MaxPooling2D((2, 2)),\n",
        "    tf.keras.layers.BatchNormalization(),\n",
        "    tf.keras.layers.Conv2D(64, (3, 3), activation='relu'),\n",
        "    tf.keras.layers.MaxPooling2D((2, 2)),\n",
        "    tf.keras.layers.BatchNormalization(),\n",
        "    tf.keras.layers.Flatten(),\n",
        "    tf.keras.layers.Dense(128, activation='relu'),\n",
        "    tf.keras.layers.Dropout(0.3),\n",
        "    tf.keras.layers.Dense(len(np.unique(y)), activation='softmax')\n",
        "])\n",
        "\n",
        "# ✅ Compile and train\n",
        "model.compile(optimizer='adam', loss='categorical_crossentropy', metrics=['accuracy'])\n",
        "history = model.fit(X_train, y_train, validation_data=(X_test, y_test), epochs=30, batch_size=32)\n",
        "\n",
        "# ✅ Save model\n",
        "model.save(\"genre_cnn.keras\")\n",
        "print(\"✅ Model saved as genre_cnn.keras\")\n"
      ],
      "metadata": {
        "colab": {
          "base_uri": "https://localhost:8080/"
        },
        "id": "BpsPuqefD-lR",
        "outputId": "cb57ea62-8a33-4106-92ca-567c463c3bd3"
      },
      "id": "BpsPuqefD-lR",
      "execution_count": 3,
      "outputs": [
        {
          "output_type": "stream",
          "name": "stderr",
          "text": [
            "Processing country: 100%|██████████| 100/100 [00:36<00:00,  2.74it/s]\n",
            "Processing jazz:  91%|█████████ | 91/100 [00:06<00:00, 17.27it/s]/tmp/ipython-input-3-2914457807.py:24: UserWarning: PySoundFile failed. Trying audioread instead.\n",
            "  audio, sr = librosa.load(file_path, duration=30)\n",
            "/usr/local/lib/python3.11/dist-packages/librosa/core/audio.py:184: FutureWarning: librosa.core.audio.__audioread_load\n",
            "\tDeprecated as of librosa version 0.10.0.\n",
            "\tIt will be removed in librosa version 1.0.\n",
            "  y, sr_native = __audioread_load(path, offset, duration, dtype)\n",
            "Processing jazz:  95%|█████████▌| 95/100 [00:06<00:00, 12.77it/s]"
          ]
        },
        {
          "output_type": "stream",
          "name": "stdout",
          "text": [
            "❌ Failed for /content/Data/genres_original/jazz/jazz.00054.wav: \n"
          ]
        },
        {
          "output_type": "stream",
          "name": "stderr",
          "text": [
            "Processing jazz: 100%|██████████| 100/100 [00:06<00:00, 14.68it/s]\n",
            "Processing classical: 100%|██████████| 100/100 [00:06<00:00, 14.34it/s]\n",
            "Processing reggae: 100%|██████████| 100/100 [00:06<00:00, 16.11it/s]\n",
            "Processing disco: 100%|██████████| 100/100 [00:06<00:00, 15.06it/s]\n",
            "Processing metal: 100%|██████████| 100/100 [00:06<00:00, 15.12it/s]\n",
            "Processing hiphop: 100%|██████████| 100/100 [00:06<00:00, 14.99it/s]\n",
            "Processing pop: 100%|██████████| 100/100 [00:06<00:00, 15.41it/s]\n",
            "Processing blues: 100%|██████████| 100/100 [00:06<00:00, 15.47it/s]\n",
            "Processing rock: 100%|██████████| 100/100 [00:06<00:00, 14.91it/s]\n",
            "/usr/local/lib/python3.11/dist-packages/keras/src/layers/convolutional/base_conv.py:107: UserWarning: Do not pass an `input_shape`/`input_dim` argument to a layer. When using Sequential models, prefer using an `Input(shape)` object as the first layer in the model instead.\n",
            "  super().__init__(activity_regularizer=activity_regularizer, **kwargs)\n"
          ]
        },
        {
          "output_type": "stream",
          "name": "stdout",
          "text": [
            "Epoch 1/30\n",
            "\u001b[1m25/25\u001b[0m \u001b[32m━━━━━━━━━━━━━━━━━━━━\u001b[0m\u001b[37m\u001b[0m \u001b[1m10s\u001b[0m 290ms/step - accuracy: 0.2234 - loss: 3.5576 - val_accuracy: 0.1300 - val_loss: 18.2302\n",
            "Epoch 2/30\n",
            "\u001b[1m25/25\u001b[0m \u001b[32m━━━━━━━━━━━━━━━━━━━━\u001b[0m\u001b[37m\u001b[0m \u001b[1m5s\u001b[0m 207ms/step - accuracy: 0.4245 - loss: 1.6137 - val_accuracy: 0.2050 - val_loss: 7.9663\n",
            "Epoch 3/30\n",
            "\u001b[1m25/25\u001b[0m \u001b[32m━━━━━━━━━━━━━━━━━━━━\u001b[0m\u001b[37m\u001b[0m \u001b[1m10s\u001b[0m 206ms/step - accuracy: 0.5672 - loss: 1.1653 - val_accuracy: 0.2900 - val_loss: 4.5433\n",
            "Epoch 4/30\n",
            "\u001b[1m25/25\u001b[0m \u001b[32m━━━━━━━━━━━━━━━━━━━━\u001b[0m\u001b[37m\u001b[0m \u001b[1m6s\u001b[0m 225ms/step - accuracy: 0.6443 - loss: 1.0068 - val_accuracy: 0.3250 - val_loss: 2.7840\n",
            "Epoch 5/30\n",
            "\u001b[1m25/25\u001b[0m \u001b[32m━━━━━━━━━━━━━━━━━━━━\u001b[0m\u001b[37m\u001b[0m \u001b[1m10s\u001b[0m 224ms/step - accuracy: 0.7263 - loss: 0.6869 - val_accuracy: 0.3950 - val_loss: 2.3031\n",
            "Epoch 6/30\n",
            "\u001b[1m25/25\u001b[0m \u001b[32m━━━━━━━━━━━━━━━━━━━━\u001b[0m\u001b[37m\u001b[0m \u001b[1m10s\u001b[0m 206ms/step - accuracy: 0.8370 - loss: 0.4745 - val_accuracy: 0.4050 - val_loss: 2.3064\n",
            "Epoch 7/30\n",
            "\u001b[1m25/25\u001b[0m \u001b[32m━━━━━━━━━━━━━━━━━━━━\u001b[0m\u001b[37m\u001b[0m \u001b[1m6s\u001b[0m 256ms/step - accuracy: 0.8818 - loss: 0.3651 - val_accuracy: 0.4750 - val_loss: 1.7788\n",
            "Epoch 8/30\n",
            "\u001b[1m25/25\u001b[0m \u001b[32m━━━━━━━━━━━━━━━━━━━━\u001b[0m\u001b[37m\u001b[0m \u001b[1m9s\u001b[0m 208ms/step - accuracy: 0.9128 - loss: 0.2692 - val_accuracy: 0.4700 - val_loss: 1.9426\n",
            "Epoch 9/30\n",
            "\u001b[1m25/25\u001b[0m \u001b[32m━━━━━━━━━━━━━━━━━━━━\u001b[0m\u001b[37m\u001b[0m \u001b[1m10s\u001b[0m 205ms/step - accuracy: 0.9322 - loss: 0.2004 - val_accuracy: 0.5300 - val_loss: 1.8456\n",
            "Epoch 10/30\n",
            "\u001b[1m25/25\u001b[0m \u001b[32m━━━━━━━━━━━━━━━━━━━━\u001b[0m\u001b[37m\u001b[0m \u001b[1m10s\u001b[0m 206ms/step - accuracy: 0.9516 - loss: 0.1596 - val_accuracy: 0.5250 - val_loss: 1.8503\n",
            "Epoch 11/30\n",
            "\u001b[1m25/25\u001b[0m \u001b[32m━━━━━━━━━━━━━━━━━━━━\u001b[0m\u001b[37m\u001b[0m \u001b[1m6s\u001b[0m 250ms/step - accuracy: 0.9509 - loss: 0.1648 - val_accuracy: 0.4700 - val_loss: 1.8442\n",
            "Epoch 12/30\n",
            "\u001b[1m25/25\u001b[0m \u001b[32m━━━━━━━━━━━━━━━━━━━━\u001b[0m\u001b[37m\u001b[0m \u001b[1m5s\u001b[0m 208ms/step - accuracy: 0.9513 - loss: 0.1254 - val_accuracy: 0.4950 - val_loss: 1.8820\n",
            "Epoch 13/30\n",
            "\u001b[1m25/25\u001b[0m \u001b[32m━━━━━━━━━━━━━━━━━━━━\u001b[0m\u001b[37m\u001b[0m \u001b[1m5s\u001b[0m 208ms/step - accuracy: 0.9568 - loss: 0.1283 - val_accuracy: 0.5050 - val_loss: 1.9607\n",
            "Epoch 14/30\n",
            "\u001b[1m25/25\u001b[0m \u001b[32m━━━━━━━━━━━━━━━━━━━━\u001b[0m\u001b[37m\u001b[0m \u001b[1m11s\u001b[0m 239ms/step - accuracy: 0.9502 - loss: 0.1265 - val_accuracy: 0.5150 - val_loss: 1.8703\n",
            "Epoch 15/30\n",
            "\u001b[1m25/25\u001b[0m \u001b[32m━━━━━━━━━━━━━━━━━━━━\u001b[0m\u001b[37m\u001b[0m \u001b[1m9s\u001b[0m 207ms/step - accuracy: 0.9770 - loss: 0.0633 - val_accuracy: 0.5200 - val_loss: 1.9617\n",
            "Epoch 16/30\n",
            "\u001b[1m25/25\u001b[0m \u001b[32m━━━━━━━━━━━━━━━━━━━━\u001b[0m\u001b[37m\u001b[0m \u001b[1m10s\u001b[0m 205ms/step - accuracy: 0.9851 - loss: 0.0729 - val_accuracy: 0.5150 - val_loss: 1.9976\n",
            "Epoch 17/30\n",
            "\u001b[1m25/25\u001b[0m \u001b[32m━━━━━━━━━━━━━━━━━━━━\u001b[0m\u001b[37m\u001b[0m \u001b[1m11s\u001b[0m 222ms/step - accuracy: 0.9755 - loss: 0.0776 - val_accuracy: 0.4850 - val_loss: 2.1044\n",
            "Epoch 18/30\n",
            "\u001b[1m25/25\u001b[0m \u001b[32m━━━━━━━━━━━━━━━━━━━━\u001b[0m\u001b[37m\u001b[0m \u001b[1m11s\u001b[0m 256ms/step - accuracy: 0.9865 - loss: 0.0540 - val_accuracy: 0.5000 - val_loss: 2.0122\n",
            "Epoch 19/30\n",
            "\u001b[1m25/25\u001b[0m \u001b[32m━━━━━━━━━━━━━━━━━━━━\u001b[0m\u001b[37m\u001b[0m \u001b[1m5s\u001b[0m 208ms/step - accuracy: 0.9906 - loss: 0.0313 - val_accuracy: 0.4950 - val_loss: 2.4955\n",
            "Epoch 20/30\n",
            "\u001b[1m25/25\u001b[0m \u001b[32m━━━━━━━━━━━━━━━━━━━━\u001b[0m\u001b[37m\u001b[0m \u001b[1m11s\u001b[0m 251ms/step - accuracy: 0.9766 - loss: 0.0734 - val_accuracy: 0.5250 - val_loss: 2.2706\n",
            "Epoch 21/30\n",
            "\u001b[1m25/25\u001b[0m \u001b[32m━━━━━━━━━━━━━━━━━━━━\u001b[0m\u001b[37m\u001b[0m \u001b[1m10s\u001b[0m 225ms/step - accuracy: 0.9790 - loss: 0.0649 - val_accuracy: 0.4800 - val_loss: 2.5393\n",
            "Epoch 22/30\n",
            "\u001b[1m25/25\u001b[0m \u001b[32m━━━━━━━━━━━━━━━━━━━━\u001b[0m\u001b[37m\u001b[0m \u001b[1m11s\u001b[0m 258ms/step - accuracy: 0.9838 - loss: 0.0498 - val_accuracy: 0.5300 - val_loss: 2.3649\n",
            "Epoch 23/30\n",
            "\u001b[1m25/25\u001b[0m \u001b[32m━━━━━━━━━━━━━━━━━━━━\u001b[0m\u001b[37m\u001b[0m \u001b[1m10s\u001b[0m 235ms/step - accuracy: 0.9871 - loss: 0.0459 - val_accuracy: 0.5350 - val_loss: 2.0684\n",
            "Epoch 24/30\n",
            "\u001b[1m25/25\u001b[0m \u001b[32m━━━━━━━━━━━━━━━━━━━━\u001b[0m\u001b[37m\u001b[0m \u001b[1m6s\u001b[0m 225ms/step - accuracy: 0.9787 - loss: 0.0479 - val_accuracy: 0.5250 - val_loss: 2.2482\n",
            "Epoch 25/30\n",
            "\u001b[1m25/25\u001b[0m \u001b[32m━━━━━━━━━━━━━━━━━━━━\u001b[0m\u001b[37m\u001b[0m \u001b[1m5s\u001b[0m 207ms/step - accuracy: 0.9882 - loss: 0.0529 - val_accuracy: 0.5050 - val_loss: 2.1903\n",
            "Epoch 26/30\n",
            "\u001b[1m25/25\u001b[0m \u001b[32m━━━━━━━━━━━━━━━━━━━━\u001b[0m\u001b[37m\u001b[0m \u001b[1m10s\u001b[0m 207ms/step - accuracy: 0.9776 - loss: 0.0632 - val_accuracy: 0.5000 - val_loss: 2.3868\n",
            "Epoch 27/30\n",
            "\u001b[1m25/25\u001b[0m \u001b[32m━━━━━━━━━━━━━━━━━━━━\u001b[0m\u001b[37m\u001b[0m \u001b[1m6s\u001b[0m 256ms/step - accuracy: 0.9888 - loss: 0.0463 - val_accuracy: 0.5150 - val_loss: 2.6351\n",
            "Epoch 28/30\n",
            "\u001b[1m25/25\u001b[0m \u001b[32m━━━━━━━━━━━━━━━━━━━━\u001b[0m\u001b[37m\u001b[0m \u001b[1m5s\u001b[0m 206ms/step - accuracy: 0.9801 - loss: 0.0628 - val_accuracy: 0.4700 - val_loss: 2.4138\n",
            "Epoch 29/30\n",
            "\u001b[1m25/25\u001b[0m \u001b[32m━━━━━━━━━━━━━━━━━━━━\u001b[0m\u001b[37m\u001b[0m \u001b[1m11s\u001b[0m 229ms/step - accuracy: 0.9814 - loss: 0.0508 - val_accuracy: 0.4850 - val_loss: 2.5150\n",
            "Epoch 30/30\n",
            "\u001b[1m25/25\u001b[0m \u001b[32m━━━━━━━━━━━━━━━━━━━━\u001b[0m\u001b[37m\u001b[0m \u001b[1m11s\u001b[0m 245ms/step - accuracy: 0.9841 - loss: 0.0460 - val_accuracy: 0.5000 - val_loss: 2.8022\n",
            "✅ Model saved as genre_cnn.keras\n"
          ]
        }
      ]
    },
    {
      "cell_type": "code",
      "source": [
        "# ✅ Plot accuracy & loss\n",
        "plt.figure(figsize=(10, 4))\n",
        "plt.subplot(1, 2, 1)\n",
        "plt.plot(history.history['accuracy'], label='Train')\n",
        "plt.plot(history.history['val_accuracy'], label='Validation')\n",
        "plt.title(\"Model Accuracy\")\n",
        "plt.legend()\n",
        "plt.subplot(1, 2, 2)\n",
        "plt.plot(history.history['loss'], label='Train')\n",
        "plt.plot(history.history['val_loss'], label='Validation')\n",
        "plt.title(\"Model Loss\")\n",
        "plt.legend()\n",
        "plt.tight_layout()\n",
        "plt.show()"
      ],
      "metadata": {
        "colab": {
          "base_uri": "https://localhost:8080/",
          "height": 407
        },
        "id": "3DwWCWoz9VMf",
        "outputId": "f3f0ce42-c1de-464d-b8e3-87d0937dd028"
      },
      "id": "3DwWCWoz9VMf",
      "execution_count": 4,
      "outputs": [
        {
          "output_type": "display_data",
          "data": {
            "text/plain": [
              "<Figure size 1000x400 with 2 Axes>"
            ],
            "image/png": "[encoded data removed]"
          },
          "metadata": {}
        }
      ]
    },
    {
      "cell_type": "code",
      "source": [
        "# ✅ Evaluate performance\n",
        "y_true = np.argmax(y_test, axis=1)\n",
        "y_pred = np.argmax(model.predict(X_test), axis=1)\n",
        "cm = confusion_matrix(y_true, y_pred)\n",
        "plt.figure(figsize=(10, 8))\n",
        "sns.heatmap(cm, annot=True, fmt='g', xticklabels=encoder.classes_, yticklabels=encoder.classes_)\n",
        "plt.xlabel(\"Predicted\")\n",
        "plt.ylabel(\"True\")\n",
        "plt.title(\"Confusion Matrix\")\n",
        "plt.show()\n",
        "print(classification_report(y_true, y_pred, target_names=encoder.classes_))"
      ],
      "metadata": {
        "colab": {
          "base_uri": "https://localhost:8080/",
          "height": 1000
        },
        "id": "x5bK0_Ns9Xy0",
        "outputId": "3dcdc943-1488-4dab-ba07-c4db5c5f2d62"
      },
      "id": "x5bK0_Ns9Xy0",
      "execution_count": 5,
      "outputs": [
        {
          "output_type": "stream",
          "name": "stdout",
          "text": [
            "\u001b[1m7/7\u001b[0m \u001b[32m━━━━━━━━━━━━━━━━━━━━\u001b[0m\u001b[37m\u001b[0m \u001b[1m1s\u001b[0m 60ms/step\n"
          ]
        },
        {
          "output_type": "display_data",
          "data": {
            "text/plain": [
              "<Figure size 1000x800 with 2 Axes>"
            ],
            "image/png": "[encoded data removed]"
          },
          "metadata": {}
        },
        {
          "output_type": "stream",
          "name": "stdout",
          "text": [
            "              precision    recall  f1-score   support\n",
            "\n",
            "       blues       0.46      0.50      0.48        22\n",
            "   classical       0.83      0.83      0.83        24\n",
            "     country       0.22      0.33      0.26        21\n",
            "       disco       0.23      0.47      0.31        15\n",
            "      hiphop       0.67      0.11      0.19        18\n",
            "        jazz       0.57      0.73      0.64        11\n",
            "       metal       0.77      0.85      0.81        27\n",
            "         pop       0.69      0.58      0.63        19\n",
            "      reggae       0.44      0.35      0.39        23\n",
            "        rock       0.33      0.15      0.21        20\n",
            "\n",
            "    accuracy                           0.50       200\n",
            "   macro avg       0.52      0.49      0.48       200\n",
            "weighted avg       0.54      0.50      0.49       200\n",
            "\n"
          ]
        }
      ]
    },
    {
      "cell_type": "code",
      "source": [
        "\n",
        "# Save Streamlit app into app.py\n",
        "app_code = \"\"\"\n",
        "import streamlit as st\n",
        "import librosa\n",
        "import numpy as np\n",
        "import tensorflow as tf\n",
        "import matplotlib.pyplot as plt\n",
        "import seaborn as sns\n",
        "from keras.models import load_model\n",
        "from sklearn.preprocessing import LabelEncoder\n",
        "\n",
        "N_MFCC = 40\n",
        "MAX_LEN = 130\n",
        "MODEL_PATH = \"genre_cnn.keras\"\n",
        "LABELS = ['blues', 'classical', 'country', 'disco', 'hiphop',\n",
        "          'jazz', 'metal', 'pop', 'reggae', 'rock']\n",
        "\n",
        "model = load_model(MODEL_PATH)\n",
        "encoder = LabelEncoder()\n",
        "encoder.fit(LABELS)\n",
        "\n",
        "def extract_features(audio_path):\n",
        "    try:\n",
        "        audio, sr = librosa.load(audio_path, duration=30)\n",
        "        mfcc = librosa.feature.mfcc(y=audio, sr=sr, n_mfcc=N_MFCC)\n",
        "        if mfcc.shape[1] < MAX_LEN:\n",
        "            mfcc = np.pad(mfcc, ((0, 0), (0, MAX_LEN - mfcc.shape[1])), mode='constant')\n",
        "        else:\n",
        "            mfcc = mfcc[:, :MAX_LEN]\n",
        "        return mfcc[..., np.newaxis]\n",
        "    except Exception as e:\n",
        "        st.error(f\"❌ Audio load failed: {e}\")\n",
        "        return None\n",
        "\n",
        "st.set_page_config(page_title=\"🎵 Music Genre Classifier\", layout=\"centered\")\n",
        "st.title(\"🎧 Music Genre Classifier\")\n",
        "st.write(\"Upload an audio file (`.mp3`, `.wav`, `.mp4`) to predict its genre.\")\n",
        "\n",
        "audio_file = st.file_uploader(\"Upload your audio file\", type=[\"wav\", \"mp3\", \"mp4\"])\n",
        "\n",
        "if audio_file is not None:\n",
        "    st.success(f\"✅ File uploaded: {audio_file.name}\")\n",
        "    with open(\"temp_audio\", \"wb\") as f:\n",
        "        f.write(audio_file.read())\n",
        "\n",
        "    features = extract_features(\"temp_audio\")\n",
        "\n",
        "    if features is not None:\n",
        "        features = np.expand_dims(features, axis=0)\n",
        "        prediction = model.predict(features)[0]\n",
        "        predicted_index = np.argmax(prediction)\n",
        "        predicted_label = encoder.inverse_transform([predicted_index])[0]\n",
        "        confidence = prediction[predicted_index]\n",
        "\n",
        "        st.markdown(f\"### 🎶 Predicted Genre: **{predicted_label.upper()}**\")\n",
        "        st.markdown(f\"### 🔮 Confidence: `{confidence:.2%}`\")\n",
        "\n",
        "        st.markdown(\"#### 🎯 Genre Prediction Probabilities\")\n",
        "        fig, ax = plt.subplots(figsize=(10, 4))\n",
        "        sns.barplot(x=encoder.classes_, y=prediction, palette=\"viridis\", ax=ax)\n",
        "        plt.xticks(rotation=45)\n",
        "        plt.ylabel(\"Probability\")\n",
        "        st.pyplot(fig)\n",
        "\"\"\"\n",
        "\n",
        "with open(\"app.py\", \"w\") as f:\n",
        "    f.write(app_code)\n"
      ],
      "metadata": {
        "id": "xYB7i_x098zV"
      },
      "id": "xYB7i_x098zV",
      "execution_count": 6,
      "outputs": []
    },
    {
      "cell_type": "code",
      "source": [
        "!pip install streamlit pyngrok pydub ffmpeg-python --quiet"
      ],
      "metadata": {
        "id": "8ka3lOEg5AIy"
      },
      "id": "8ka3lOEg5AIy",
      "execution_count": 7,
      "outputs": []
    },
    {
      "cell_type": "code",
      "source": [
        "!pip install streamlit pyngrok --quiet\n",
        "!ngrok config add-authtoken 2zDYXDhV41RY4Gv2fcU1TPCEmyt_3sHkZvBRetEKz4BeZhUy1"
      ],
      "metadata": {
        "id": "TNzMQXWozaqO",
        "colab": {
          "base_uri": "https://localhost:8080/"
        },
        "outputId": "55c7bfb6-daa0-41cb-fd33-d45ea76e0771"
      },
      "id": "TNzMQXWozaqO",
      "execution_count": 8,
      "outputs": [
        {
          "output_type": "stream",
          "name": "stdout",
          "text": [
            "Authtoken saved to configuration file: /root/.config/ngrok/ngrok.yml\n"
          ]
        }
      ]
    },
    {
      "cell_type": "code",
      "source": [
        "!pkill streamlit\n",
        "!killall ngrok"
      ],
      "metadata": {
        "colab": {
          "base_uri": "https://localhost:8080/"
        },
        "id": "16RtJ4OW-l7t",
        "outputId": "0f49efde-b2f3-4fdc-c097-aefc45a3ad84"
      },
      "id": "16RtJ4OW-l7t",
      "execution_count": 9,
      "outputs": [
        {
          "output_type": "stream",
          "name": "stdout",
          "text": [
            "ngrok: no process found\n"
          ]
        }
      ]
    },
    {
      "cell_type": "code",
      "source": [
        "!pkill streamlit  # kill stuck process\n",
        "!streamlit run app.py &>/content/logs.txt &\n",
        "\n",
        "import time\n",
        "from pyngrok import ngrok\n",
        "time.sleep(5)\n",
        "public_url = ngrok.connect(addr=\"8501\", proto=\"http\")\n",
        "print(\"🔗 App URL:\", public_url)"
      ],
      "metadata": {
        "id": "mQ_g1ObOeuZN",
        "outputId": "e355509e-dd90-4afa-99b7-a88a2ac01107",
        "colab": {
          "base_uri": "https://localhost:8080/"
        }
      },
      "id": "mQ_g1ObOeuZN",
      "execution_count": 10,
      "outputs": [
        {
          "output_type": "stream",
          "name": "stdout",
          "text": [
            "🔗 App URL: NgrokTunnel: \"https://0b09-34-81-140-107.ngrok-free.app\" -> \"http://localhost:8501\"\n"
          ]
        }
      ]
    }
  ],
  "metadata": {
    "colab": {
      "provenance": [],
      "include_colab_link": true
    },
    "language_info": {
      "name": "python"
    },
    "kernelspec": {
      "name": "python3",
      "display_name": "Python 3"
    }
  },
  "nbformat": 4,
  "nbformat_minor": 5
}